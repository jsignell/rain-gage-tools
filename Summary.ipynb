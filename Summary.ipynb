{
 "cells": [
  {
   "cell_type": "code",
   "execution_count": 1,
   "metadata": {
    "collapsed": true
   },
   "outputs": [],
   "source": [
    "from rain import *\n",
    "from common import *\n",
    "\n",
    "%matplotlib inline\n",
    "import mpld3 \n",
    "mpld3.enable_notebook()\n",
    "%load_ext autoreload\n",
    "%aimport rain\n",
    "%aimport common"
   ]
  },
  {
   "cell_type": "code",
   "execution_count": null,
   "metadata": {
    "collapsed": true
   },
   "outputs": [],
   "source": [
    "path = 'C:/Users/Julia/Google Drive/STLOUIS/Version2/'\n",
    "\n",
    "rg = Rain(path=path, name='StLouis_MSD_gage_{YEAR}.csv', year=range(2009, 2015), ngages=101, units='mm')\n",
    "rad = Rain(path=path, name='StLouis_MSD_radar_{YEAR}.csv', year=range(2009, 2015), ngages=101, units='mm')\n",
    "rg.ll_file = 'StLouis_MSD_lat_lon_{YEAR}.csv'.format(YEAR=rg.year)\n",
    "\n",
    "rg.get_ll(cols=['lat','lon'])\n",
    "rad.ll = rg.ll"
   ]
  },
  {
   "cell_type": "code",
   "execution_count": null,
   "metadata": {
    "collapsed": true
   },
   "outputs": [],
   "source": [
    "rg21 = Rain(path=path, name='StLouis_MSD21_gage_{YEAR}.csv', year=range(2000, 2007), ngages=21, units='mm')\n",
    "rad21 = Rain(path=path, name='StLouis_MSD21_radar_{YEAR}.csv', year=range(2000, 2007), ngages=21, units='mm')\n",
    "rg21.ll_file = 'StLouis_MSD21_lat_lon.csv'\n",
    "\n",
    "rg21.get_ll(cols=['lat','lon'])\n",
    "rad21.ll = rg21.ll"
   ]
  },
  {
   "cell_type": "code",
   "execution_count": null,
   "metadata": {
    "collapsed": true
   },
   "outputs": [],
   "source": []
  }
 ],
 "metadata": {
  "kernelspec": {
   "display_name": "Python 2",
   "language": "python",
   "name": "python2"
  },
  "language_info": {
   "codemirror_mode": {
    "name": "ipython",
    "version": 2
   },
   "file_extension": ".py",
   "mimetype": "text/x-python",
   "name": "python",
   "nbconvert_exporter": "python",
   "pygments_lexer": "ipython2",
   "version": "2.7.10"
  }
 },
 "nbformat": 4,
 "nbformat_minor": 0
}
