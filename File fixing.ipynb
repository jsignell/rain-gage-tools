{
 "cells": [
  {
   "cell_type": "code",
   "execution_count": 2,
   "metadata": {
    "collapsed": false
   },
   "outputs": [],
   "source": [
    "import pandas as pd\n",
    "import numpy as np\n",
    "import matplotlib.pyplot as plt"
   ]
  },
  {
   "cell_type": "code",
   "execution_count": 3,
   "metadata": {
    "collapsed": true
   },
   "outputs": [],
   "source": [
    "path = '../../data/CHARLOTTE/'"
   ]
  },
  {
   "cell_type": "code",
   "execution_count": 4,
   "metadata": {
    "collapsed": true
   },
   "outputs": [],
   "source": [
    "import datetime"
   ]
  },
  {
   "cell_type": "code",
   "execution_count": 131,
   "metadata": {
    "collapsed": false,
    "scrolled": true
   },
   "outputs": [
    {
     "name": "stderr",
     "output_type": "stream",
     "text": [
      "/home/jsignell/miniconda2/lib/python2.7/site-packages/ipykernel/__main__.py:3: FutureWarning: using '+' to provide set union with Indexes is deprecated, use '|' or .union()\n",
      "  app.launch_new_instance()\n"
     ]
    }
   ],
   "source": [
    "f = \"Charlotte_CRN_1993_2010_15min_noFlag.txt\"\n",
    "df_old = pd.read_csv(path+'Raw Data/'+f, delim_whitespace=True, parse_dates = False)\n",
    "times = pd.to_datetime(df_old.index + ' ' + df_old.date, format=\"%Y-%m-%d %H:%M:%S\")\n",
    "df_old.set_index(times, inplace=True)\n",
    "# and maybe for cleanup\n",
    "df_old = df_old.drop(['date'], axis=1)"
   ]
  },
  {
   "cell_type": "code",
   "execution_count": 5,
   "metadata": {
    "collapsed": false
   },
   "outputs": [],
   "source": [
    "df_name = pd.read_csv(path+'Raw Data/'+\"Charlotte_gage_list.txt\", delim_whitespace=True)"
   ]
  },
  {
   "cell_type": "code",
   "execution_count": 6,
   "metadata": {
    "collapsed": false
   },
   "outputs": [],
   "source": [
    "ll = df_name.drop(['ID', 'NAME'], axis=1)"
   ]
  },
  {
   "cell_type": "code",
   "execution_count": 140,
   "metadata": {
    "collapsed": true
   },
   "outputs": [],
   "source": [
    "ll.to_csv(path+'Version1/Charlotte_CRN_lat_lon.csv', sep=',', index=False, header=False, na_rep=-999)"
   ]
  },
  {
   "cell_type": "code",
   "execution_count": 35,
   "metadata": {
    "collapsed": false
   },
   "outputs": [],
   "source": [
    "dateparse = lambda x: pd.datetime.strptime(x, '%Y %m %d %H %M')\n",
    "for i in df_name.index:\n",
    "    df_ = pd.read_csv(path+'Raw Data/'+str(df_name[\"ID\"][i])+\".txt\", delim_whitespace=True, header=None, \n",
    "                      names=['YYYY', 'mm', 'dd', 'HH', 'MM', 'tz', 'CRN{num:02d}'.format(num=i+1)],\n",
    "                      parse_dates={'date_time': ['YYYY', 'mm', 'dd', 'HH', 'MM']},\n",
    "                      date_parser=dateparse, index_col=0, na_values=['***', 'Eqp'])\n",
    "    new = df_[df_.tz == 'EDT'].index+pd.DateOffset(hours=4)\n",
    "    new = new.append(df_[df_.tz == 'EST'].index+pd.DateOffset(hours=5))\n",
    "\n",
    "    new = new.sort_values()\n",
    "    df_.set_index(new, inplace=True)\n",
    "    df_ = df_.drop('tz', axis=1)\n",
    "    df_ = df_.resample('15T', how='sum', label='right', closed='right')\n",
    "    df_ = df_['2011':]\n",
    "    tt = df_[df_[[0]] == 0].dropna().index\n",
    "    for t in tt:\n",
    "        if t.time() == datetime.time(0,0) or t.time() == datetime.time(12,0):\n",
    "            df_[t:t+pd.DateOffset(hours=12)].fillna(method='ffill', limit=48, inplace=True)\n",
    "    df_ = df_*100\n",
    "    if i==0:\n",
    "        df_all = df_\n",
    "    else:\n",
    "        df_all = df_all.join(df_)\n",
    "        df_all.to_csv(path+'Raw Data/Charlotte_CRN_2011_2015_15min_noFlag.txt')"
   ]
  },
  {
   "cell_type": "code",
   "execution_count": 36,
   "metadata": {
    "collapsed": false
   },
   "outputs": [],
   "source": [
    "df = pd.read_csv(path+'Raw Data/Charlotte_CRN_2011_2015_15min_noFlag.txt', index_col=0, parse_dates=True)*25.4/100"
   ]
  },
  {
   "cell_type": "code",
   "execution_count": 132,
   "metadata": {
    "collapsed": true
   },
   "outputs": [],
   "source": [
    "df = df_old*25.4/100"
   ]
  },
  {
   "cell_type": "code",
   "execution_count": 37,
   "metadata": {
    "collapsed": false
   },
   "outputs": [],
   "source": [
    "df.insert(0, 'year', df.index.year)\n",
    "df.insert(1, 'month', df.index.month)\n",
    "df.insert(2, 'day', df.index.day)\n",
    "df.insert(3, 'hour', df.index.hour)\n",
    "df.insert(4, 'minute', df.index.minute)"
   ]
  },
  {
   "cell_type": "code",
   "execution_count": 38,
   "metadata": {
    "collapsed": false
   },
   "outputs": [],
   "source": [
    "for y in range(2011, 2016):\n",
    "    year = str(y)\n",
    "    out_name = 'Charlotte_CRN_gage_{YEAR}.csv'.format(YEAR=year)\n",
    "    df_year = df['{YEAR}-01-01'.format(YEAR=year):'{YEAR}-12-31 23:45'.format(YEAR=year)]\n",
    "    df_year.to_csv(path+'Version1/'+out_name, sep=',', index=False, header=False, na_rep=-99)"
   ]
  },
  {
   "cell_type": "code",
   "execution_count": 84,
   "metadata": {
    "collapsed": false
   },
   "outputs": [
    {
     "data": {
      "text/plain": [
       "<matplotlib.axes._subplots.AxesSubplot at 0x1c3216a0>"
      ]
     },
     "execution_count": 84,
     "metadata": {},
     "output_type": "execute_result"
    },
    {
     "data": {
      "image/png": "[encoded data removed]",
      "text/plain": [
       "<matplotlib.figure.Figure at 0x1c2ebd30>"
      ]
     },
     "metadata": {},
     "output_type": "display_data"
    }
   ],
   "source": [
    "df['2009-12-25 12:00':'2009-12-25 18:00'].CRN01.plot( style='-bo')\n",
    "df1['2009-12-25 12:00':'2009-12-25 18:00'].CRN01.plot( style='-go', secondary_y=True)"
   ]
  },
  {
   "cell_type": "code",
   "execution_count": null,
   "metadata": {
    "collapsed": true
   },
   "outputs": [],
   "source": [
    "path = \"C:/Users/Julia/Google Drive/PHILADELPHIA/\"\n",
    "f = \"philadelphia_15min_rain_2012_2015.txt\"\n",
    "df = pd.read_csv(path+f, delim_whitespace=True, header=None)\n",
    "\n",
    "labels = []\n",
    "for i, col in enumerate(df.columns):\n",
    "    if i < 5:\n",
    "        continue\n",
    "    if i%2 == 1:\n",
    "        df[col].loc[df[df.columns[i+1]]==-1] = np.nan\n",
    "    if i%2 ==0:\n",
    "        labels.append(col)\n",
    "df = df.drop(labels, axis=1)\n",
    "\n",
    "for group in df.groupby(df[0]):\n",
    "    group[1].to_csv(path+'Philadelphia_raingage_{YEAR}_NAN_filled.dat'.format(YEAR=group[0]),\n",
    "                    header=False, index=False, sep=' ', na_rep = '-99')"
   ]
  },
  {
   "cell_type": "code",
   "execution_count": 4,
   "metadata": {
    "collapsed": false
   },
   "outputs": [],
   "source": [
    "path = 'C:/Users/Julia/Google Drive/STLOUIS/'\n",
    "\n",
    "def get_ll(cols=['lat', 'lon'], path=path, ll_file=ll_file):\n",
    "    ll = pd.read_csv(path+ll_file, delim_whitespace=True, \n",
    "                             header=None, names=cols)\n",
    "    if 'RG' not in cols:\n",
    "        ll['RG'] = ll.index + 1\n",
    "    ll.index = ll['RG']\n",
    "    return ll"
   ]
  },
  {
   "cell_type": "code",
   "execution_count": 7,
   "metadata": {
    "collapsed": false
   },
   "outputs": [],
   "source": [
    "ll_file = 'll_loc{YEAR}.txt'.format(YEAR=2010)\n",
    "ll2010 = get_ll(cols=['lat', 'lon'], path=path, ll_file=ll_file)\n",
    "ll2010.index = zip(ll2010.lat, ll2010.lon)"
   ]
  },
  {
   "cell_type": "markdown",
   "metadata": {},
   "source": [
    "You can check that 2009 exactly matches with 2010 by running:"
   ]
  },
  {
   "cell_type": "code",
   "execution_count": 8,
   "metadata": {
    "collapsed": false
   },
   "outputs": [
    {
     "data": {
      "text/plain": [
       "array([ True,  True,  True,  True,  True,  True,  True,  True,  True,\n",
       "        True,  True,  True,  True,  True,  True,  True,  True,  True,\n",
       "        True,  True,  True,  True,  True,  True,  True,  True,  True,\n",
       "        True,  True,  True,  True,  True,  True,  True,  True,  True,\n",
       "        True,  True,  True,  True,  True,  True,  True,  True,  True,\n",
       "        True,  True,  True,  True,  True,  True,  True,  True,  True,\n",
       "        True,  True,  True,  True,  True,  True,  True,  True,  True,\n",
       "        True,  True,  True,  True,  True,  True,  True,  True,  True,\n",
       "        True,  True,  True,  True,  True,  True,  True,  True,  True,\n",
       "        True,  True,  True,  True,  True,  True,  True,  True,  True,\n",
       "        True,  True,  True,  True,  True,  True,  True,  True,  True,  True], dtype=bool)"
      ]
     },
     "execution_count": 8,
     "metadata": {},
     "output_type": "execute_result"
    }
   ],
   "source": [
    "ll2010.index == ll.index"
   ]
  },
  {
   "cell_type": "markdown",
   "metadata": {},
   "source": [
    "You'll find that 2011 and 2012 also match, but 2013 doesn't"
   ]
  },
  {
   "cell_type": "code",
   "execution_count": 9,
   "metadata": {
    "collapsed": true
   },
   "outputs": [],
   "source": [
    "ll_file = 'll_loc{YEAR}.txt'.format(YEAR=2013)\n",
    "ll2013 = get_ll(cols=['lat', 'lon'], path=path, ll_file=ll_file)\n",
    "ll2013.index = zip(ll2013.lat, ll2013.lon)"
   ]
  },
  {
   "cell_type": "code",
   "execution_count": 10,
   "metadata": {
    "collapsed": false
   },
   "outputs": [
    {
     "data": {
      "text/plain": [
       "array([ True,  True,  True,  True,  True,  True,  True,  True,  True,\n",
       "        True,  True,  True,  True,  True,  True,  True,  True,  True,\n",
       "        True, False, False, False, False, False, False, False, False,\n",
       "       False, False, False, False, False, False, False, False, False,\n",
       "       False, False, False, False, False, False, False, False, False,\n",
       "       False, False, False, False, False, False, False, False, False,\n",
       "       False, False, False, False, False, False, False, False, False,\n",
       "       False, False, False, False, False, False, False, False, False,\n",
       "       False, False, False, False, False, False, False, False, False,\n",
       "       False, False, False, False, False, False, False, False, False,\n",
       "       False, False, False, False, False, False, False, False, False, False], dtype=bool)"
      ]
     },
     "execution_count": 10,
     "metadata": {},
     "output_type": "execute_result"
    }
   ],
   "source": [
    "ll2013.index == ll.index"
   ]
  },
  {
   "cell_type": "markdown",
   "metadata": {},
   "source": [
    "However, it is contained within ll. This means that all the gages are the same, they are just in a different order"
   ]
  },
  {
   "cell_type": "code",
   "execution_count": 11,
   "metadata": {
    "collapsed": false
   },
   "outputs": [
    {
     "data": {
      "text/plain": [
       "True"
      ]
     },
     "execution_count": 11,
     "metadata": {},
     "output_type": "execute_result"
    }
   ],
   "source": [
    "set(ll2013.index) == set(ll.index)"
   ]
  },
  {
   "cell_type": "markdown",
   "metadata": {},
   "source": [
    "If we join them together, the RG column will reorganize to match the lat, lon index"
   ]
  },
  {
   "cell_type": "code",
   "execution_count": 12,
   "metadata": {
    "collapsed": true
   },
   "outputs": [],
   "source": [
    "ll = ll.join(ll2013, rsuffix='2013')"
   ]
  },
  {
   "cell_type": "markdown",
   "metadata": {},
   "source": [
    "We'll do that same thing with 2014 and find that all but one of the gages are contained. Also one of the gages lat, lons in the other years, doesn't show up in 2014. We can find the gage that doesn't show up in 2014 because when we join it to ll, one of the RG vals goes to nan. We will add the missing gage to the ll_loc.txt file, and change the nan val to 101."
   ]
  },
  {
   "cell_type": "code",
   "execution_count": 13,
   "metadata": {
    "collapsed": true
   },
   "outputs": [],
   "source": [
    "ll_file = 'll_loc{YEAR}.txt'.format(YEAR=2014)\n",
    "ll2014 = get_ll(cols=['lat', 'lon'], path=path, ll_file=ll_file)\n",
    "ll2014.index = zip(ll2014.lat, ll2014.lon)"
   ]
  },
  {
   "cell_type": "code",
   "execution_count": 14,
   "metadata": {
    "collapsed": false
   },
   "outputs": [
    {
     "data": {
      "text/html": [
       "<div>\n",
       "<table border=\"1\" class=\"dataframe\">\n",
       "  <thead>\n",
       "    <tr style=\"text-align: right;\">\n",
       "      <th></th>\n",
       "      <th>lat</th>\n",
       "      <th>lon</th>\n",
       "      <th>RG</th>\n",
       "    </tr>\n",
       "  </thead>\n",
       "  <tbody>\n",
       "    <tr>\n",
       "      <th>(38.80051, -90.20072)</th>\n",
       "      <td>38.80051</td>\n",
       "      <td>-90.20072</td>\n",
       "      <td>40</td>\n",
       "    </tr>\n",
       "  </tbody>\n",
       "</table>\n",
       "</div>"
      ],
      "text/plain": [
       "                            lat       lon  RG\n",
       "(38.80051, -90.20072)  38.80051 -90.20072  40"
      ]
     },
     "execution_count": 14,
     "metadata": {},
     "output_type": "execute_result"
    }
   ],
   "source": [
    "ll2014.loc[set(ll2014.index) - set(ll.index)]"
   ]
  },
  {
   "cell_type": "code",
   "execution_count": 15,
   "metadata": {
    "collapsed": true
   },
   "outputs": [],
   "source": [
    "ll = ll.join(ll2014, rsuffix='2014')"
   ]
  },
  {
   "cell_type": "code",
   "execution_count": 16,
   "metadata": {
    "collapsed": false
   },
   "outputs": [
    {
     "data": {
      "text/html": [
       "<div>\n",
       "<table border=\"1\" class=\"dataframe\">\n",
       "  <thead>\n",
       "    <tr style=\"text-align: right;\">\n",
       "      <th></th>\n",
       "      <th>lat</th>\n",
       "      <th>lon</th>\n",
       "      <th>RG</th>\n",
       "      <th>lat2013</th>\n",
       "      <th>lon2013</th>\n",
       "      <th>RG2013</th>\n",
       "      <th>lat2014</th>\n",
       "      <th>lon2014</th>\n",
       "      <th>RG2014</th>\n",
       "    </tr>\n",
       "  </thead>\n",
       "  <tbody>\n",
       "    <tr>\n",
       "      <th>(38.73571, -90.46288)</th>\n",
       "      <td>38.73571</td>\n",
       "      <td>-90.46288</td>\n",
       "      <td>39</td>\n",
       "      <td>38.73571</td>\n",
       "      <td>-90.46288</td>\n",
       "      <td>99</td>\n",
       "      <td>NaN</td>\n",
       "      <td>NaN</td>\n",
       "      <td>NaN</td>\n",
       "    </tr>\n",
       "  </tbody>\n",
       "</table>\n",
       "</div>"
      ],
      "text/plain": [
       "                            lat       lon  RG   lat2013   lon2013  RG2013  \\\n",
       "(38.73571, -90.46288)  38.73571 -90.46288  39  38.73571 -90.46288      99   \n",
       "\n",
       "                       lat2014  lon2014  RG2014  \n",
       "(38.73571, -90.46288)      NaN      NaN     NaN  "
      ]
     },
     "execution_count": 16,
     "metadata": {},
     "output_type": "execute_result"
    }
   ],
   "source": [
    "ll.loc[ll.RG2014.isnull()]"
   ]
  },
  {
   "cell_type": "code",
   "execution_count": 17,
   "metadata": {
    "collapsed": false
   },
   "outputs": [],
   "source": [
    "ll.loc[ll.RG2014.isnull(),'RG2014'] = 101"
   ]
  },
  {
   "cell_type": "markdown",
   "metadata": {},
   "source": [
    "Next we will get a list of integers representing the new column order in the data files. The order of the list is the current order in the files, and the numbers represent the new order. So for example: in 2014 old column 21 will now be the first data column in the file. Of course the date columns still come first in the same order as ever. "
   ]
  },
  {
   "cell_type": "code",
   "execution_count": 18,
   "metadata": {
    "collapsed": true
   },
   "outputs": [],
   "source": [
    "order_2013 = [0, 1, 2, 3, 4]\n",
    "order_2013.extend([int(i)+4 for i in ll.RG2013.values])\n",
    "order_2013.append(101+4)"
   ]
  },
  {
   "cell_type": "code",
   "execution_count": 19,
   "metadata": {
    "collapsed": true
   },
   "outputs": [],
   "source": [
    "order_2014 = [0, 1, 2, 3, 4]\n",
    "order_2014.extend([int(i)+4 for i in ll.RG2014.values])\n",
    "order_2014.append(40+4)"
   ]
  },
  {
   "cell_type": "markdown",
   "metadata": {},
   "source": [
    "Then once you have all your orders and you have checked them over you can step through year by year. In the years from 2009 to 2014 in St Louis we added one column because 2014 had a gage site that the others didn't include. "
   ]
  },
  {
   "cell_type": "code",
   "execution_count": 55,
   "metadata": {
    "collapsed": false
   },
   "outputs": [],
   "source": [
    "year = 2013\n",
    "path = 'C:/Users/Julia/Google Drive/STLOUIS/'\n",
    "name = 'MSD{YEAR}_ref_UTC.csv'.format(YEAR=year)\n",
    "out_name='StLouis_gage_{YEAR}.csv'.format(YEAR=year)\n",
    "\n",
    "df = pd.read_csv(path+name, sep=',', header=None)\n",
    "df[range(5,105)] = df[range(5,105)] * 25.4\n",
    "df[df< 0] = -99\n",
    "df[105] = (df[104]*0-99).apply(int)\n",
    "df[order_2013].to_csv(path+out_name, sep=',', index=False, header=False)\n",
    "\n",
    "name = 'radar{YEAR}_ref.dat'.format(YEAR=year)\n",
    "out_name='StLouis_radar_{YEAR}.csv'.format(YEAR=year)\n",
    "\n",
    "df = pd.read_csv(path+name, delim_whitespace=True, header=None)\n",
    "\n",
    "for i in range(5):\n",
    "    df[i] = df[i].apply(int)\n",
    "df[105] = (df[104]*0-99).apply(int)\n",
    "df[order_2013].to_csv(path+out_name, sep=',', index=False, header=False)"
   ]
  },
  {
   "cell_type": "code",
   "execution_count": 59,
   "metadata": {
    "collapsed": true
   },
   "outputs": [],
   "source": [
    "year = 2009\n",
    "path = 'C:/Users/Julia/Google Drive/STLOUIS/'\n",
    "name = 'MSD{YEAR}_ref_UTC.csv'.format(YEAR=year)\n",
    "out_name='StLouis_gage_{YEAR}.csv'.format(YEAR=year)\n",
    "\n",
    "df = pd.read_csv(path+name, sep=',', header=None)\n",
    "df[range(5,105)] = df[range(5,105)] * 25.4\n",
    "df[df< 0] = -99\n",
    "df[105] = (df[104]*0-99).apply(int)\n",
    "df.to_csv(path+out_name, sep=',', index=False, header=False)\n",
    "\n",
    "name = 'radar{YEAR}_ref.dat'.format(YEAR=year)\n",
    "out_name='StLouis_radar_{YEAR}.csv'.format(YEAR=year)\n",
    "\n",
    "df = pd.read_csv(path+name, delim_whitespace=True, header=None)\n",
    "\n",
    "for i in range(5):\n",
    "    df[i] = df[i].apply(int)\n",
    "df[105] = (df[104]*0-99).apply(int)\n",
    "df.to_csv(path+out_name, sep=',', index=False, header=False)"
   ]
  },
  {
   "cell_type": "code",
   "execution_count": 239,
   "metadata": {
    "collapsed": false
   },
   "outputs": [],
   "source": [
    "year = 2008\n",
    "path = 'C:/Users/Julia/Google Drive/STLOUIS/'\n",
    "name = 'MSD{YEAR}_ref_UTC.csv'.format(YEAR=year)\n",
    "out_name='StLouis_gage_{YEAR}.csv'.format(YEAR=year)\n",
    "\n",
    "df = pd.read_csv(path+name, sep=',', header=None)\n",
    "df[range(5,len(df.columns))] = df[range(5,len(df.columns))] * 25.4\n",
    "df[df< 0] = -99\n",
    "df.to_csv(path+out_name, sep=',', index=False, header=False)\n",
    "\n",
    "name = 'radar{YEAR}_ref.dat'.format(YEAR=year)\n",
    "out_name='StLouis_radar_{YEAR}.csv'.format(YEAR=year)\n",
    "\n",
    "df = pd.read_csv(path+name, sep=',', header=None)\n",
    "\n",
    "for i in range(5):\n",
    "    df[i] = df[i].apply(int)\n",
    "df.to_csv(path+out_name, sep=',', index=False, header=False)"
   ]
  },
  {
   "cell_type": "code",
   "execution_count": 240,
   "metadata": {
    "collapsed": false
   },
   "outputs": [],
   "source": [
    "out_name = 'StLouis_gage_{YEAR}.csv'.format(YEAR=year)\n",
    "def dateparse(Y, m, d, H, M):\n",
    "    d = pd.datetime(int(Y), int(m), int(d), int(H), int(M))\n",
    "    return d\n",
    "\n",
    "df = pd.read_csv(path+out_name, sep=',', header=None, parse_dates={'date_time': range(0,5)}, date_parser=dateparse, index_col=0)\n",
    "dr = pd.date_range('{YEAR}-01-01'.format(YEAR=year), '{YEAR}-12-31 23:45'.format(YEAR=year), freq='15T')\n",
    "df = df.reindex(index=dr, fill_value = -99)\n",
    "df[0] = df.index.year\n",
    "df[1] = df.index.month\n",
    "df[2] = df.index.day\n",
    "df[3] = df.index.hour\n",
    "df[4] = df.index.minute\n",
    "\n",
    "df[range(0,len(df.columns))].to_csv(path+out_name, sep=',', index=False, header=False)"
   ]
  },
  {
   "cell_type": "code",
   "execution_count": 241,
   "metadata": {
    "collapsed": true
   },
   "outputs": [],
   "source": [
    "year = '2008'"
   ]
  },
  {
   "cell_type": "code",
   "execution_count": 242,
   "metadata": {
    "collapsed": false
   },
   "outputs": [],
   "source": [
    "df = pd.read_csv(path+'ll_loc{YEAR}.txt'.format(YEAR=year), delim_whitespace=True, header=None)\n",
    "df.to_csv(path+'Version1/'+'lat_lon_{YEAR}.csv'.format(YEAR=year), sep=',', index=False, header=False)"
   ]
  },
  {
   "cell_type": "markdown",
   "metadata": {},
   "source": [
    "### For writing to a file once it is Version2"
   ]
  },
  {
   "cell_type": "code",
   "execution_count": 20,
   "metadata": {
    "collapsed": true
   },
   "outputs": [],
   "source": [
    "import pandas as pd\n",
    "import numpy as np"
   ]
  },
  {
   "cell_type": "code",
   "execution_count": 38,
   "metadata": {
    "collapsed": false,
    "scrolled": true
   },
   "outputs": [],
   "source": [
    "year=2014\n",
    "path = 'C:/Users/Julia/Google Drive/STLOUIS/Version2/'\n",
    "name = 'StLouis_MSD_radar_{YEAR}.csv'.format(YEAR=year)\n",
    "def dateparse(Y, m, d, H, M):\n",
    "    d = pd.datetime(int(Y), int(m), int(d), int(H), int(M))\n",
    "    return d\n",
    "\n",
    "df = pd.read_csv(path+name, sep=',', header=None, parse_dates={'date_time': range(0,5)}, date_parser=dateparse, index_col=0)"
   ]
  },
  {
   "cell_type": "code",
   "execution_count": 39,
   "metadata": {
    "collapsed": false
   },
   "outputs": [
    {
     "data": {
      "text/plain": [
       "0.0"
      ]
     },
     "execution_count": 39,
     "metadata": {},
     "output_type": "execute_result"
    }
   ],
   "source": [
    "df[44].max()"
   ]
  },
  {
   "cell_type": "code",
   "execution_count": 40,
   "metadata": {
    "collapsed": true
   },
   "outputs": [],
   "source": [
    "df[44] = -99"
   ]
  },
  {
   "cell_type": "code",
   "execution_count": 41,
   "metadata": {
    "collapsed": false
   },
   "outputs": [
    {
     "data": {
      "text/plain": [
       "-99L"
      ]
     },
     "execution_count": 41,
     "metadata": {},
     "output_type": "execute_result"
    }
   ],
   "source": [
    "df[44].max()"
   ]
  },
  {
   "cell_type": "code",
   "execution_count": 42,
   "metadata": {
    "collapsed": false
   },
   "outputs": [],
   "source": [
    "df[0] = df.index.year\n",
    "df[1] = df.index.month\n",
    "df[2] = df.index.day\n",
    "df[3] = df.index.hour\n",
    "df[4] = df.index.minute\n",
    "\n",
    "df[range(0,len(df.columns))].to_csv(path+name, sep=',', index=False, header=False)"
   ]
  },
  {
   "cell_type": "code",
   "execution_count": 66,
   "metadata": {
    "collapsed": true
   },
   "outputs": [],
   "source": [
    "year = 2006\n",
    "path = 'C:/Users/Julia/Google Drive/STLOUIS/Version2/'\n",
    "name = 'StLouis_MSD21_radar_{YEAR}.csv'.format(YEAR=year)"
   ]
  },
  {
   "cell_type": "code",
   "execution_count": 67,
   "metadata": {
    "collapsed": false
   },
   "outputs": [
    {
     "data": {
      "text/html": [
       "<div>\n",
       "<table border=\"1\" class=\"dataframe\">\n",
       "  <thead>\n",
       "    <tr style=\"text-align: right;\">\n",
       "      <th></th>\n",
       "      <th>0</th>\n",
       "      <th>1</th>\n",
       "      <th>2</th>\n",
       "      <th>3</th>\n",
       "      <th>4</th>\n",
       "      <th>5</th>\n",
       "      <th>6</th>\n",
       "      <th>7</th>\n",
       "      <th>8</th>\n",
       "      <th>9</th>\n",
       "      <th>...</th>\n",
       "      <th>17</th>\n",
       "      <th>18</th>\n",
       "      <th>19</th>\n",
       "      <th>20</th>\n",
       "      <th>21</th>\n",
       "      <th>22</th>\n",
       "      <th>23</th>\n",
       "      <th>24</th>\n",
       "      <th>25</th>\n",
       "      <th>26</th>\n",
       "    </tr>\n",
       "  </thead>\n",
       "  <tbody>\n",
       "    <tr>\n",
       "      <th>0</th>\n",
       "      <td>2006</td>\n",
       "      <td>4</td>\n",
       "      <td>1</td>\n",
       "      <td>0</td>\n",
       "      <td>15</td>\n",
       "      <td>0</td>\n",
       "      <td>0</td>\n",
       "      <td>0</td>\n",
       "      <td>0</td>\n",
       "      <td>0</td>\n",
       "      <td>...</td>\n",
       "      <td>0</td>\n",
       "      <td>0</td>\n",
       "      <td>0</td>\n",
       "      <td>0</td>\n",
       "      <td>0</td>\n",
       "      <td>0</td>\n",
       "      <td>0</td>\n",
       "      <td>0</td>\n",
       "      <td>0</td>\n",
       "      <td>NaN</td>\n",
       "    </tr>\n",
       "    <tr>\n",
       "      <th>1</th>\n",
       "      <td>2006</td>\n",
       "      <td>4</td>\n",
       "      <td>1</td>\n",
       "      <td>0</td>\n",
       "      <td>30</td>\n",
       "      <td>0</td>\n",
       "      <td>0</td>\n",
       "      <td>0</td>\n",
       "      <td>0</td>\n",
       "      <td>0</td>\n",
       "      <td>...</td>\n",
       "      <td>0</td>\n",
       "      <td>0</td>\n",
       "      <td>0</td>\n",
       "      <td>0</td>\n",
       "      <td>0</td>\n",
       "      <td>0</td>\n",
       "      <td>0</td>\n",
       "      <td>0</td>\n",
       "      <td>0</td>\n",
       "      <td>NaN</td>\n",
       "    </tr>\n",
       "    <tr>\n",
       "      <th>2</th>\n",
       "      <td>2006</td>\n",
       "      <td>4</td>\n",
       "      <td>1</td>\n",
       "      <td>0</td>\n",
       "      <td>45</td>\n",
       "      <td>0</td>\n",
       "      <td>0</td>\n",
       "      <td>0</td>\n",
       "      <td>0</td>\n",
       "      <td>0</td>\n",
       "      <td>...</td>\n",
       "      <td>0</td>\n",
       "      <td>0</td>\n",
       "      <td>0</td>\n",
       "      <td>0</td>\n",
       "      <td>0</td>\n",
       "      <td>0</td>\n",
       "      <td>0</td>\n",
       "      <td>0</td>\n",
       "      <td>0</td>\n",
       "      <td>NaN</td>\n",
       "    </tr>\n",
       "    <tr>\n",
       "      <th>3</th>\n",
       "      <td>2006</td>\n",
       "      <td>4</td>\n",
       "      <td>1</td>\n",
       "      <td>1</td>\n",
       "      <td>0</td>\n",
       "      <td>0</td>\n",
       "      <td>0</td>\n",
       "      <td>0</td>\n",
       "      <td>0</td>\n",
       "      <td>0</td>\n",
       "      <td>...</td>\n",
       "      <td>0</td>\n",
       "      <td>0</td>\n",
       "      <td>0</td>\n",
       "      <td>0</td>\n",
       "      <td>0</td>\n",
       "      <td>0</td>\n",
       "      <td>0</td>\n",
       "      <td>0</td>\n",
       "      <td>0</td>\n",
       "      <td>NaN</td>\n",
       "    </tr>\n",
       "    <tr>\n",
       "      <th>4</th>\n",
       "      <td>2006</td>\n",
       "      <td>4</td>\n",
       "      <td>1</td>\n",
       "      <td>1</td>\n",
       "      <td>15</td>\n",
       "      <td>0</td>\n",
       "      <td>0</td>\n",
       "      <td>0</td>\n",
       "      <td>0</td>\n",
       "      <td>0</td>\n",
       "      <td>...</td>\n",
       "      <td>0</td>\n",
       "      <td>0</td>\n",
       "      <td>0</td>\n",
       "      <td>0</td>\n",
       "      <td>0</td>\n",
       "      <td>0</td>\n",
       "      <td>0</td>\n",
       "      <td>0</td>\n",
       "      <td>0</td>\n",
       "      <td>NaN</td>\n",
       "    </tr>\n",
       "  </tbody>\n",
       "</table>\n",
       "<p>5 rows × 27 columns</p>\n",
       "</div>"
      ],
      "text/plain": [
       "     0   1   2   3   4   5   6   7   8   9  ...  17  18  19  20  21  22  23  \\\n",
       "0  2006   4   1   0  15   0   0   0   0   0 ...   0   0   0   0   0   0   0   \n",
       "1  2006   4   1   0  30   0   0   0   0   0 ...   0   0   0   0   0   0   0   \n",
       "2  2006   4   1   0  45   0   0   0   0   0 ...   0   0   0   0   0   0   0   \n",
       "3  2006   4   1   1   0   0   0   0   0   0 ...   0   0   0   0   0   0   0   \n",
       "4  2006   4   1   1  15   0   0   0   0   0 ...   0   0   0   0   0   0   0   \n",
       "\n",
       "   24  25  26  \n",
       "0   0   0 NaN  \n",
       "1   0   0 NaN  \n",
       "2   0   0 NaN  \n",
       "3   0   0 NaN  \n",
       "4   0   0 NaN  \n",
       "\n",
       "[5 rows x 27 columns]"
      ]
     },
     "execution_count": 67,
     "metadata": {},
     "output_type": "execute_result"
    }
   ],
   "source": [
    "df = pd.read_csv(path+name, sep=',', header=None)\n",
    "df.head()"
   ]
  },
  {
   "cell_type": "code",
   "execution_count": 68,
   "metadata": {
    "collapsed": false
   },
   "outputs": [],
   "source": [
    "df[range(len(df.columns)-1)].to_csv(path+name, sep=',', index=False, header=False)"
   ]
  },
  {
   "cell_type": "code",
   "execution_count": null,
   "metadata": {
    "collapsed": true
   },
   "outputs": [],
   "source": []
  }
 ],
 "metadata": {
  "kernelspec": {
   "display_name": "Python 2",
   "language": "python",
   "name": "python2"
  },
  "language_info": {
   "codemirror_mode": {
    "name": "ipython",
    "version": 2
   },
   "file_extension": ".py",
   "mimetype": "text/x-python",
   "name": "python",
   "nbconvert_exporter": "python",
   "pygments_lexer": "ipython2",
   "version": "2.7.11"
  }
 },
 "nbformat": 4,
 "nbformat_minor": 0
}
